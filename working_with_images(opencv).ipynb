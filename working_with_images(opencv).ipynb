{
 "cells": [
  {
   "cell_type": "markdown",
   "id": "64643f9b",
   "metadata": {},
   "source": [
    "# working with images using opencv"
   ]
  },
  {
   "cell_type": "code",
   "execution_count": 1,
   "id": "9eba0e29",
   "metadata": {},
   "outputs": [],
   "source": [
    "import cv2\n"
   ]
  },
  {
   "cell_type": "code",
   "execution_count": 2,
   "id": "b3824fb5",
   "metadata": {},
   "outputs": [],
   "source": [
    "img = cv2.imread('sanjeev.png') # this will interperet bgr as bgr only"
   ]
  },
  {
   "cell_type": "code",
   "execution_count": 3,
   "id": "22b3b669",
   "metadata": {},
   "outputs": [],
   "source": [
    "cv2.imshow('my photo',img)\n",
    "cv2.waitKey(10)  # this is time, 0 means wait for infinte time, if 25 then wait for 25milisecond\n",
    "cv2.destroyAllWindows() # after waiting for specified time"
   ]
  },
  {
   "cell_type": "code",
   "execution_count": null,
   "id": "d85b2810",
   "metadata": {},
   "outputs": [],
   "source": []
  }
 ],
 "metadata": {
  "kernelspec": {
   "display_name": "Python 3",
   "language": "python",
   "name": "python3"
  },
  "language_info": {
   "codemirror_mode": {
    "name": "ipython",
    "version": 3
   },
   "file_extension": ".py",
   "mimetype": "text/x-python",
   "name": "python",
   "nbconvert_exporter": "python",
   "pygments_lexer": "ipython3",
   "version": "3.8.8"
  }
 },
 "nbformat": 4,
 "nbformat_minor": 5
}
