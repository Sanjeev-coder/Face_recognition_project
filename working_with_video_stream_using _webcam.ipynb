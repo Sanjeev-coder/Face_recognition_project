{
 "cells": [
  {
   "cell_type": "markdown",
   "id": "74e67bb1",
   "metadata": {},
   "source": [
    "### in this we will se how we can read a video strem from web camera using openCV"
   ]
  },
  {
   "cell_type": "code",
   "execution_count": 1,
   "id": "768f70c1",
   "metadata": {},
   "outputs": [],
   "source": [
    "import cv2"
   ]
  },
  {
   "cell_type": "code",
   "execution_count": 2,
   "id": "49b22bef",
   "metadata": {},
   "outputs": [],
   "source": [
    "# firstly capture the device, which read input stream we know videos are series of frames\n",
    "cap = cv2.VideoCapture(0) # capturing webcam, here 0 so it will use default webcam(parameter is id of device)"
   ]
  },
  {
   "cell_type": "code",
   "execution_count": null,
   "id": "73592326",
   "metadata": {},
   "outputs": [],
   "source": [
    "# cap.read() returns two value, first is boolean value and other is frame that has been captured\n",
    "# if boolean value is False means frame has not captured properly, reason can web cam has not started or not working\n",
    "while True:\n",
    "    ret, frame = cap.read()\n",
    "    grey_frame = cv2.cvtColor(frame,cv2.COLOR_BGR2GRAY)\n",
    "    \n",
    "    if ret == False:  # we will keep looping untile we get the frame\n",
    "        continue\n",
    "        \n",
    "    cv2.imshow('video Frame', frame) # this will show frame if got\n",
    "    cv2.imshow('grey frame', grey_frame)\n",
    "    \n",
    "    # wait for user input -q(let say) then you will stop the loop\n",
    "    key_pressed = cv2.waitKey(1) & 0xFF\n",
    "    \n",
    "    if key_pressed == ord('q'):   # ord('q') will give ascii value of q\n",
    "        break\n",
    "        \n",
    "cap.realease()\n",
    "cv2.destroyAllWindows()\n",
    "    "
   ]
  },
  {
   "cell_type": "code",
   "execution_count": null,
   "id": "e2977971",
   "metadata": {},
   "outputs": [],
   "source": []
  },
  {
   "cell_type": "code",
   "execution_count": null,
   "id": "31b71f12",
   "metadata": {},
   "outputs": [],
   "source": []
  }
 ],
 "metadata": {
  "kernelspec": {
   "display_name": "Python 3",
   "language": "python",
   "name": "python3"
  },
  "language_info": {
   "codemirror_mode": {
    "name": "ipython",
    "version": 3
   },
   "file_extension": ".py",
   "mimetype": "text/x-python",
   "name": "python",
   "nbconvert_exporter": "python",
   "pygments_lexer": "ipython3",
   "version": "3.8.8"
  }
 },
 "nbformat": 4,
 "nbformat_minor": 5
}
